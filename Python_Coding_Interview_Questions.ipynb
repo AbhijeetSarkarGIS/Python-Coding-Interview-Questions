{
  "cells": [
    {
      "attachments": {},
      "cell_type": "markdown",
      "metadata": {
        "id": "l0ElgTBThaQN"
      },
      "source": [
        "# **PYTHON CODING INTERVIEW 50 QUESTIONS SOLUTIONS**"
      ]
    },
    {
      "cell_type": "markdown",
      "metadata": {
        "id": "BATrF1W-hZai"
      },
      "source": [
        "\n",
        "**CODED BY: ABHIJEET SARKAR (M.TECH GEOINFORMATICS)**\n",
        "\n",
        "\n",
        "\n"
      ]
    },
    {
      "cell_type": "code",
      "execution_count": null,
      "metadata": {
        "colab": {
          "base_uri": "https://localhost:8080/"
        },
        "id": "sLa5pobXUwo7",
        "outputId": "00043baf-36af-4289-f49e-116f7cde8b40"
      },
      "outputs": [
        {
          "name": "stdout",
          "output_type": "stream",
          "text": [
            "10\n"
          ]
        }
      ],
      "source": [
        "#1. Write a Python program to get the largest number from a list.\n",
        "def get_largest_number(numbers):\n",
        "    return max(numbers)\n",
        "\n",
        "numbers = [1, 2, 3, 4, 5, 6, 7, 8, 9, 10]\n",
        "print(get_largest_number(numbers))"
      ]
    },
    {
      "cell_type": "code",
      "execution_count": 1,
      "metadata": {
        "colab": {
          "base_uri": "https://localhost:8080/",
          "height": 0
        },
        "id": "BqldVY8KVqdU",
        "outputId": "6f619047-a1b1-407a-c39b-6a09067bba0b"
      },
      "outputs": [
        {
          "name": "stdout",
          "output_type": "stream",
          "text": [
            "{1: 'Apple', 2: 'Banana', 3: 'Carrot', 4: 'Date'}\n",
            "{1: 'Apple', 2: 'Banana', 3: 'Carrot', 4: 'Date'}\n",
            "{1: 'One', 2: 'Two', 3: 'Three', 4: 'Four'}\n"
          ]
        }
      ],
      "source": [
        " #2. a) Write a Python script to concatenate two dictionaries to create a new one. b) Write a Python program to sort a dictionary by key. \n",
        "\n",
        "\n",
        "#a) Write a Python script to concatenate two dictionaries to create a new one\n",
        "dict1 = {1: \"Apple\", 2: \"Banana\"}\n",
        "dict2 = {3: \"Carrot\", 4: \"Date\"}\n",
        "\n",
        "# Using the `update()` method\n",
        "dict1.update(dict2)\n",
        "print(dict1)\n",
        "\n",
        "# Using the `**` operator\n",
        "dict1 = {1: \"Apple\", 2: \"Banana\"}\n",
        "dict3 = {**dict1, **dict2}\n",
        "print(dict3)\n",
        "\n",
        "\n",
        "#b) Write a Python program to sort a dictionary by key. \n",
        "my_dict = {3: \"Three\", 4: \"Four\", 2: \"Two\", 1: \"One\"}\n",
        "sorted_dict = dict(sorted(my_dict.items()))\n",
        "print(sorted_dict)\n",
        "\n"
      ]
    },
    {
      "cell_type": "code",
      "execution_count": null,
      "metadata": {
        "colab": {
          "base_uri": "https://localhost:8080/"
        },
        "id": "dMtAXdAEWEdL",
        "outputId": "7b809415-d962-4f55-c5c2-60e3e90d633f"
      },
      "outputs": [
        {
          "name": "stdout",
          "output_type": "stream",
          "text": [
            "(1, 'Hello', 3.14, ['a', 'b'])\n"
          ]
        }
      ],
      "source": [
        "# 3. a) Write a Python program to create a tuple with different data types. b) Write a Python program to find the repeated items of a tuple.\n",
        "# Create a tuple with different data types\n",
        "my_tuple = (1, \"Hello\", 3.14, [\"a\", \"b\"])\n",
        "\n",
        "print(my_tuple)"
      ]
    },
    {
      "cell_type": "code",
      "execution_count": null,
      "metadata": {
        "colab": {
          "base_uri": "https://localhost:8080/"
        },
        "id": "yhLBoSWoWNg7",
        "outputId": "40d79c64-02f6-4cf6-bcec-32937b682925"
      },
      "outputs": [
        {
          "name": "stdout",
          "output_type": "stream",
          "text": [
            "{2, 3}\n"
          ]
        }
      ],
      "source": [
        "# b) Write a Python program to find the repeated items of a tuple.\n",
        "my_tuple = (1, 2, 2, 3, 4, 5, 3, 6)\n",
        "\n",
        "# Find the repeated items of a tuple\n",
        "repeated_items = [item for item in my_tuple if my_tuple.count(item) > 1]\n",
        "\n",
        "print(set(repeated_items))\n"
      ]
    },
    {
      "cell_type": "code",
      "execution_count": null,
      "metadata": {
        "colab": {
          "base_uri": "https://localhost:8080/"
        },
        "id": "lA_k2drjWbcr",
        "outputId": "2bdd2ca1-6846-489c-f761-dcf975ab57c6"
      },
      "outputs": [
        {
          "name": "stdout",
          "output_type": "stream",
          "text": [
            "Enter a word: abhijeet\n",
            "The reversed word is: teejihba\n"
          ]
        }
      ],
      "source": [
        "#  4. Write a Python program that accepts a word from the user and reverse it.\n",
        "# Get input word from the user\n",
        "word = input(\"Enter a word: \")\n",
        "\n",
        "# Reverse the word\n",
        "reverse_word = word[::-1]\n",
        "\n",
        "print(\"The reversed word is:\", reverse_word)\n"
      ]
    },
    {
      "cell_type": "code",
      "execution_count": null,
      "metadata": {
        "colab": {
          "base_uri": "https://localhost:8080/"
        },
        "id": "8-fmAMfIW1gE",
        "outputId": "8a403de0-1b9d-454b-c2d0-fd91875d3547"
      },
      "outputs": [
        {
          "name": "stdout",
          "output_type": "stream",
          "text": [
            "Sum: 15\n",
            "Product: 50\n"
          ]
        }
      ],
      "source": [
        "#  5. Write a phython program to demonstrate functions. \n",
        "def add(a, b):\n",
        "    \"\"\"\n",
        "   This function takes two numbers and returns their sum\n",
        "    \"\"\"\n",
        "    return a + b\n",
        "\n",
        "def multiply(a, b):\n",
        "    \"\"\"\n",
        "    This function takes two numbers and returns their product\n",
        "    \"\"\"\n",
        "    return a * b\n",
        "\n",
        "# Function calls\n",
        "num1 = 5\n",
        "num2 = 10\n",
        "print(\"Sum:\", add(num1, num2))\n",
        "print(\"Product:\", multiply(num1, num2))\n"
      ]
    },
    {
      "cell_type": "code",
      "execution_count": null,
      "metadata": {
        "colab": {
          "base_uri": "https://localhost:8080/"
        },
        "id": "UVc_ipEmXNVc",
        "outputId": "e533eae0-f4a6-45b2-8e5e-814d0d6d3c6f"
      },
      "outputs": [
        {
          "name": "stdout",
          "output_type": "stream",
          "text": [
            "Tomy says bheu bheu!\n",
            "Tomy's breed is Golden Retriever\n"
          ]
        }
      ],
      "source": [
        "#6. Write a phython program to demonstrate classes. \n",
        "class Dog:\n",
        "    \"\"\"\n",
        "    This is a class representing a dog\n",
        "    \"\"\"\n",
        "    def __init__(self, name, breed):\n",
        "        self.name = name\n",
        "        self.breed = breed\n",
        "\n",
        "    def bark(self):\n",
        "        \"\"\"\n",
        "        This method makes the dog bark\n",
        "        \"\"\"\n",
        "        print(f\"{self.name} says bheu bheu!\")\n",
        "\n",
        "    def show_breed(self):\n",
        "        \"\"\"\n",
        "        Show the breed of the dog\n",
        "        \"\"\"\n",
        "        print(f'{self.name}\\'s breed is {self.breed}')\n",
        "      \n",
        "# Create an instance of the Dog class\n",
        "dog = Dog(\"Tomy\", \"Golden Retriever\")\n",
        "dog.bark()\n",
        "dog.show_breed()"
      ]
    },
    {
      "cell_type": "code",
      "execution_count": null,
      "metadata": {
        "colab": {
          "base_uri": "https://localhost:8080/"
        },
        "id": "PP7MQ2odZezN",
        "outputId": "136238ee-796e-476b-b0f2-d8557153b8c0"
      },
      "outputs": [
        {
          "name": "stdout",
          "output_type": "stream",
          "text": [
            "This is an example abhijeet assignment file.\n"
          ]
        }
      ],
      "source": [
        "#7. Write a program to perform file operations. \n",
        "# Open a file for writing\n",
        "file = open(\"example.txt\", \"w\")\n",
        "\n",
        "# Write to the file\n",
        "file.write(\"This is an example abhijeet assignment file.\")\n",
        "\n",
        "# Close the file\n",
        "file.close()\n",
        "\n",
        "# Open the file for reading\n",
        "file = open(\"example.txt\", \"r\")\n",
        "\n",
        "# Read the contents of the file\n",
        "print(file.read())\n",
        "\n",
        "# Close the file\n",
        "file.close()\n",
        "\n",
        "# Delete the file\n",
        "import os\n",
        "os.remove(\"example.txt\")\n"
      ]
    },
    {
      "cell_type": "code",
      "execution_count": null,
      "metadata": {
        "colab": {
          "base_uri": "https://localhost:8080/"
        },
        "id": "ea-OwoVzZ5dF",
        "outputId": "644c0a52-5f03-410c-9e70-7f2f5bebfb68"
      },
      "outputs": [
        {
          "name": "stdout",
          "output_type": "stream",
          "text": [
            "True\n",
            "False\n"
          ]
        }
      ],
      "source": [
        "#8. Write a Python program to check that a string contains only a certain set of characters (in this case a-z, A-Z and 0-9).\n",
        "import re\n",
        "\n",
        "def check_string(string):\n",
        "    pattern = '^[a-zA-Z0-9]+$'\n",
        "    if re.search(pattern, string):\n",
        "        return True\n",
        "    else:\n",
        "        return False\n",
        "\n",
        "print(check_string(\"Hello123\")) # True\n",
        "print(check_string(\"Hello&_%23\")) # False\n"
      ]
    },
    {
      "cell_type": "code",
      "execution_count": null,
      "metadata": {
        "colab": {
          "base_uri": "https://localhost:8080/"
        },
        "id": "uRUZHp8lasbL",
        "outputId": "76d49c99-12b5-4ee3-ca5b-22fbbda50cfd"
      },
      "outputs": [
        {
          "name": "stdout",
          "output_type": "stream",
          "text": [
            "[5, 2, 3, 4, 1]\n"
          ]
        }
      ],
      "source": [
        "#9. Write a Python program to interchange first and last elements in a list\n",
        "def interchange_first_last(lst):\n",
        "    lst[0], lst[-1] = lst[-1], lst[0]\n",
        "    return lst\n",
        "\n",
        "example_list = [1, 2, 3, 4, 5]\n",
        "print(interchange_first_last(example_list)) # [5, 2, 3, 4, 1]\n"
      ]
    },
    {
      "cell_type": "code",
      "execution_count": null,
      "metadata": {
        "colab": {
          "base_uri": "https://localhost:8080/"
        },
        "id": "SbWnbkXpbIr1",
        "outputId": "f3a248e1-4c34-4f3e-df8f-f800f6c68fd0"
      },
      "outputs": [
        {
          "name": "stdout",
          "output_type": "stream",
          "text": [
            "[1, 4, 3, 2, 5]\n"
          ]
        }
      ],
      "source": [
        "#10. Write a Python program to swap two elements in a list\n",
        "def swap_elements(lst, index1, index2):\n",
        "    lst[index1], lst[index2] = lst[index2], lst[index1]\n",
        "    return lst\n",
        "\n",
        "example_list = [1, 2, 3, 4, 5]\n",
        "print(swap_elements(example_list, 1, 3)) # [1, 4, 3, 2, 5]\n"
      ]
    },
    {
      "cell_type": "code",
      "execution_count": null,
      "metadata": {
        "colab": {
          "base_uri": "https://localhost:8080/"
        },
        "id": "4Ih0BxUkAxSZ",
        "outputId": "6ed91a45-2bcd-4783-c3fd-c11f6e95d780"
      },
      "outputs": [
        {
          "name": "stdout",
          "output_type": "stream",
          "text": [
            "5\n"
          ]
        }
      ],
      "source": [
        "#11. Write a Python to find length of list\n",
        "def find_length_of_list(lst):\n",
        "    return len(lst)\n",
        "\n",
        "# Example usage\n",
        "my_list = [1, 2, 3, 4, 5]\n",
        "print(find_length_of_list(my_list))\n"
      ]
    },
    {
      "cell_type": "code",
      "execution_count": null,
      "metadata": {
        "colab": {
          "base_uri": "https://localhost:8080/"
        },
        "id": "Mp8fpM__GfSt",
        "outputId": "6070ec7c-2bcf-4b09-b2e9-cefdfcc33d2f"
      },
      "outputs": [
        {
          "name": "stdout",
          "output_type": "stream",
          "text": [
            "[]\n",
            "[]\n",
            "[]\n"
          ]
        }
      ],
      "source": [
        "#12. Write a Python to check if element exists in list Different ways to clear a list in Python\n",
        "# Method 1: Using the clear() function\n",
        "my_list = [1, 2, 3, 4, 5]\n",
        "my_list.clear()\n",
        "print(my_list) # Output: []\n",
        "\n",
        "# Method 2: Reassigning the variable to an empty list\n",
        "my_list = [1, 2, 3, 4, 5]\n",
        "my_list = []\n",
        "print(my_list) # Output: []\n",
        "\n",
        "# Method 3: Using slicing to remove all elements\n",
        "my_list = [1, 2, 3, 4, 5]\n",
        "del my_list[:]\n",
        "print(my_list) # Output: []\n"
      ]
    },
    {
      "cell_type": "code",
      "execution_count": null,
      "metadata": {
        "colab": {
          "base_uri": "https://localhost:8080/"
        },
        "id": "vlJ8suUuPSJl",
        "outputId": "8d05559c-96ef-4b23-94e4-6aac3a07d69f"
      },
      "outputs": [
        {
          "name": "stdout",
          "output_type": "stream",
          "text": [
            "[5, 4, 3, 2, 1]\n",
            "[5, 4, 3, 2, 1]\n"
          ]
        }
      ],
      "source": [
        "#13. Write a Python Reversing a List.\n",
        "#Using the reverse() function\n",
        "my_list = [1, 2, 3, 4, 5]\n",
        "my_list.reverse()\n",
        "print(my_list) # Output: [5, 4, 3, 2, 1]\n",
        "\n",
        "#Using slicing with a negative step\n",
        "my_list = [1, 2, 3, 4, 5]\n",
        "print(my_list[::-1]) # Output: [5, 4, 3, 2, 1]\n"
      ]
    },
    {
      "cell_type": "code",
      "execution_count": null,
      "metadata": {
        "colab": {
          "base_uri": "https://localhost:8080/"
        },
        "id": "1FmuS4LaP8zS",
        "outputId": "60f1a929-0282-4036-b0ec-63d7f46df27c"
      },
      "outputs": [
        {
          "name": "stdout",
          "output_type": "stream",
          "text": [
            "15\n"
          ]
        }
      ],
      "source": [
        "#14. Write a Python program to find sum of elements in list.\n",
        "def sum_list(lst):\n",
        "    return sum(lst)\n",
        "\n",
        "print(sum_list([1, 2, 3, 4, 5]))\n"
      ]
    },
    {
      "cell_type": "code",
      "execution_count": null,
      "metadata": {
        "colab": {
          "base_uri": "https://localhost:8080/"
        },
        "id": "SVTFZ7BzP_Aq",
        "outputId": "6320e58f-8c29-4065-9871-9af77d60210a"
      },
      "outputs": [
        {
          "name": "stdout",
          "output_type": "stream",
          "text": [
            "120\n"
          ]
        }
      ],
      "source": [
        "#15. Write a Python  program  Multiply all numbers in the list.\n",
        "def multiply_list(lst):\n",
        "    result = 1\n",
        "    for i in lst:\n",
        "        result *= i\n",
        "    return result\n",
        "\n",
        "print(multiply_list([1, 2, 3, 4, 5]))"
      ]
    },
    {
      "cell_type": "code",
      "execution_count": null,
      "metadata": {
        "colab": {
          "base_uri": "https://localhost:8080/"
        },
        "id": "uCMDQMleQpgD",
        "outputId": "d59c1f31-9a59-46e7-dc66-fb74558b4db7"
      },
      "outputs": [
        {
          "name": "stdout",
          "output_type": "stream",
          "text": [
            "1\n"
          ]
        }
      ],
      "source": [
        "#16. Write a Python program to find smallest number in a list.\n",
        "def find_smallest(lst):\n",
        "    return min(lst)\n",
        "\n",
        "print(find_smallest([3,2,1,5,7,8,9]))\n"
      ]
    },
    {
      "cell_type": "code",
      "execution_count": null,
      "metadata": {
        "colab": {
          "base_uri": "https://localhost:8080/"
        },
        "id": "HsxpBPG1Q8qe",
        "outputId": "895325f8-a1f5-451f-8af5-7eacf43452a7"
      },
      "outputs": [
        {
          "name": "stdout",
          "output_type": "stream",
          "text": [
            "9\n"
          ]
        }
      ],
      "source": [
        "#17. Write  Python program to find largest number in a list.\n",
        "def find_largest(lst):\n",
        "    return max(lst)\n",
        "\n",
        "print(find_largest([3,2,1,5,7,8,9]))\n"
      ]
    },
    {
      "cell_type": "code",
      "execution_count": null,
      "metadata": {
        "colab": {
          "base_uri": "https://localhost:8080/"
        },
        "id": "SNMDkbDjRYZ5",
        "outputId": "c2f78006-6487-4593-b3ba-19b7dfd0f3f9"
      },
      "outputs": [
        {
          "name": "stdout",
          "output_type": "stream",
          "text": [
            "8\n"
          ]
        }
      ],
      "source": [
        "#18. Write a Python program to find second largest number in a list.\n",
        "def find_second_largest(lst):\n",
        "    lst.sort(reverse=True)\n",
        "    return lst[1]\n",
        "\n",
        "print(find_second_largest([3,2,1,5,7,8,9]))\n"
      ]
    },
    {
      "cell_type": "code",
      "execution_count": null,
      "metadata": {
        "colab": {
          "base_uri": "https://localhost:8080/"
        },
        "id": "Nz_NJLG8Rp_b",
        "outputId": "3bcc6443-4725-4fbe-f32e-354bb1eebe10"
      },
      "outputs": [
        {
          "name": "stdout",
          "output_type": "stream",
          "text": [
            "[9, 8, 7]\n"
          ]
        }
      ],
      "source": [
        "#19. Write a  Python program to find N largest elements from a list.\n",
        "def find_n_largest(lst, n):\n",
        "    lst.sort(reverse=True)\n",
        "    return lst[:n]\n",
        "\n",
        "print(find_n_largest([3,2,1,5,7,8,9],3))\n"
      ]
    },
    {
      "cell_type": "code",
      "execution_count": null,
      "metadata": {
        "colab": {
          "base_uri": "https://localhost:8080/"
        },
        "id": "tw_RtxJqR3bz",
        "outputId": "c10b1c90-64a3-4871-9bf8-895702bec1c2"
      },
      "outputs": [
        {
          "name": "stdout",
          "output_type": "stream",
          "text": [
            "2\n",
            "4\n",
            "6\n",
            "8\n",
            "10\n"
          ]
        }
      ],
      "source": [
        "#20. Write a Python program to print even numbers in a list.\n",
        "numbers = [1, 2, 3, 4, 5, 6, 7, 8, 9, 10]\n",
        "\n",
        "for number in numbers:\n",
        "    if number % 2 == 0:\n",
        "        print(number)\n"
      ]
    },
    {
      "cell_type": "code",
      "execution_count": null,
      "metadata": {
        "colab": {
          "base_uri": "https://localhost:8080/"
        },
        "id": "7-wWIWmvT-th",
        "outputId": "93b5bbfb-cd84-4cef-a8e8-fcfa783435b0"
      },
      "outputs": [
        {
          "name": "stdout",
          "output_type": "stream",
          "text": [
            "1\n",
            "3\n",
            "5\n",
            "7\n",
            "9\n"
          ]
        }
      ],
      "source": [
        "#21. Write a Python program to print odd numbers in a List.\n",
        "numbers = [1, 2, 3, 4, 5, 6, 7, 8, 9, 10]\n",
        "\n",
        "for number in numbers:\n",
        "    if number % 2 != 0:\n",
        "        print(number)\n"
      ]
    },
    {
      "cell_type": "code",
      "execution_count": null,
      "metadata": {
        "colab": {
          "base_uri": "https://localhost:8080/"
        },
        "id": "7QCewDWebP5u",
        "outputId": "1cfa6979-e61c-41ba-cd3b-54d894f749d6"
      },
      "outputs": [
        {
          "name": "stdout",
          "output_type": "stream",
          "text": [
            "2\n",
            "4\n",
            "6\n",
            "8\n",
            "10\n"
          ]
        }
      ],
      "source": [
        "#22. Write a Python program to print all even numbers in a range.\n",
        "def print_even_numbers(start, end):\n",
        "    for i in range(start, end + 1):\n",
        "        if i % 2 == 0:\n",
        "            print(i)\n",
        "\n",
        "print_even_numbers(1, 10)\n"
      ]
    },
    {
      "cell_type": "code",
      "execution_count": null,
      "metadata": {
        "colab": {
          "base_uri": "https://localhost:8080/"
        },
        "id": "38cULHN-bkd2",
        "outputId": "c6f9bdd4-1c6c-4e03-ba5e-435a7b7562c3"
      },
      "outputs": [
        {
          "name": "stdout",
          "output_type": "stream",
          "text": [
            "[[10, 10, 10], [10, 10, 10], [10, 10, 10]]\n"
          ]
        }
      ],
      "source": [
        "#23. Python program to add two Matrices.\n",
        "\n",
        "def add_matrices(mat1, mat2):\n",
        "    # Check if the matrices have the same dimensions\n",
        "    if len(mat1) != len(mat2) or len(mat1[0]) != len(mat2[0]):\n",
        "        raise ValueError(\"Error: Matrices have different dimensions\")\n",
        "\n",
        "    # Create a new matrix with the same dimensions as mat1 and mat2\n",
        "    result = [[0 for j in range(len(mat1[0]))] for i in range(len(mat1))]\n",
        "\n",
        "    # Iterate through the rows and columns of the matrices\n",
        "    for i in range(len(mat1)):\n",
        "        for j in range(len(mat1[0])):\n",
        "            result[i][j] = mat1[i][j] + mat2[i][j]\n",
        "\n",
        "    return result\n",
        "\n",
        "# Example usage:\n",
        "mat1 = [[1, 2, 3], [4, 5, 6], [7, 8, 9]]\n",
        "mat2 = [[9, 8, 7], [6, 5, 4], [3, 2, 1]]\n",
        "result = add_matrices(mat1, mat2)\n",
        "print(result)\n"
      ]
    },
    {
      "cell_type": "code",
      "execution_count": null,
      "metadata": {
        "colab": {
          "base_uri": "https://localhost:8080/"
        },
        "id": "IVFqcwGFcM2m",
        "outputId": "70382b72-5dc4-4384-e948-4c9f6a512ea4"
      },
      "outputs": [
        {
          "name": "stdout",
          "output_type": "stream",
          "text": [
            "[[58, 64], [139, 154]]\n"
          ]
        }
      ],
      "source": [
        "#24.Python program to multiply two matrices.\n",
        "\n",
        "def multiply_matrices(mat1, mat2):\n",
        "    # Check if the matrices can be multiplied\n",
        "    if len(mat1[0]) != len(mat2):\n",
        "        raise ValueError(\"Error: The number of columns of the first matrix must be equal to the number of rows of the second matrix\")\n",
        "\n",
        "    # Create a new matrix with dimensions len(mat1) x len(mat2[0])\n",
        "    result = [[0 for j in range(len(mat2[0]))] for i in range(len(mat1))]\n",
        "\n",
        "    # Iterate through the rows of the first matrix\n",
        "    for i in range(len(mat1)):\n",
        "        # Iterate through the columns of the second matrix\n",
        "        for j in range(len(mat2[0])):\n",
        "            # Iterate through the rows of the second matrix\n",
        "            for k in range(len(mat2)):\n",
        "                result[i][j] += mat1[i][k] * mat2[k][j]\n",
        "\n",
        "    return result\n",
        "\n",
        "# Example usage:\n",
        "mat1 = [[1, 2, 3], [4, 5, 6]]\n",
        "mat2 = [[7, 8], [9, 10], [11, 12]]\n",
        "result = multiply_matrices(mat1, mat2)\n",
        "print(result)\n"
      ]
    },
    {
      "cell_type": "code",
      "execution_count": null,
      "metadata": {
        "colab": {
          "base_uri": "https://localhost:8080/"
        },
        "id": "UAjvvgyydB_c",
        "outputId": "bdc40bc3-c994-4f83-ebb4-70c27df91456"
      },
      "outputs": [
        {
          "name": "stdout",
          "output_type": "stream",
          "text": [
            "[[58, 64], [139, 154]]\n"
          ]
        }
      ],
      "source": [
        "#25.Python program for Matrix Product.\n",
        "\n",
        "def matrix_product(A, B):\n",
        "    # Get the dimensions of the matrices\n",
        "    rows_A = len(A)\n",
        "    cols_A = len(A[0])\n",
        "    rows_B = len(B)\n",
        "    cols_B = len(B[0])\n",
        "    \n",
        "    # Make sure the matrices can be multiplied\n",
        "    if cols_A != rows_B:\n",
        "        raise ValueError(\"The number of columns in A must match the number of rows in B.\")\n",
        "        \n",
        "    # Create a result matrix filled with zeros\n",
        "    result = [[0 for row in range(cols_B)] for col in range(rows_A)]\n",
        "    \n",
        "    # Perform the matrix multiplication\n",
        "    for i in range(rows_A):\n",
        "        for j in range(cols_B):\n",
        "            for k in range(cols_A):\n",
        "                result[i][j] += A[i][k] * B[k][j]\n",
        "                \n",
        "    return result\n",
        "# Example usage\n",
        "A = [[1, 2, 3], [4, 5, 6]]\n",
        "B = [[7, 8], [9, 10], [11, 12]]\n",
        "print(matrix_product(A, B))\n"
      ]
    },
    {
      "cell_type": "code",
      "execution_count": null,
      "metadata": {
        "colab": {
          "base_uri": "https://localhost:8080/"
        },
        "id": "ElBIljuIdiZd",
        "outputId": "df6704fa-f1ac-4af4-fcca-dbab3a104687"
      },
      "outputs": [
        {
          "name": "stdout",
          "output_type": "stream",
          "text": [
            "[[ 6  8]\n",
            " [10 12]]\n"
          ]
        }
      ],
      "source": [
        "#26.Adding and Subtracting Matrices in Python.\n",
        "\n",
        "import numpy as np\n",
        "\n",
        "matrix1 = np.array([[1, 2], [3, 4]])\n",
        "matrix2 = np.array([[5, 6], [7, 8]])\n",
        "\n",
        "result = np.add(matrix1, matrix2)\n",
        "print(result)\n"
      ]
    },
    {
      "cell_type": "code",
      "execution_count": null,
      "metadata": {
        "colab": {
          "base_uri": "https://localhost:8080/"
        },
        "id": "fRs1ERG6eVfs",
        "outputId": "bd30528d-3ae5-4208-8da4-aa177dad4acb"
      },
      "outputs": [
        {
          "name": "stdout",
          "output_type": "stream",
          "text": [
            "[[1 3]\n",
            " [2 4]]\n"
          ]
        }
      ],
      "source": [
        "#27.Transpose a matrix in Single line in Python.\n",
        "import numpy as np\n",
        "\n",
        "matrix = np.array([[1, 2], [3, 4]])\n",
        "\n",
        "result = np.transpose(matrix)\n",
        "print(result)\n"
      ]
    },
    {
      "cell_type": "code",
      "execution_count": null,
      "metadata": {
        "colab": {
          "base_uri": "https://localhost:8080/"
        },
        "id": "Q-iyhg7Ee_lt",
        "outputId": "bc1722a4-0fba-4685-c271-b1a5f1385ef5"
      },
      "outputs": [
        {
          "name": "stdout",
          "output_type": "stream",
          "text": [
            "[[7 7 7]\n",
            " [7 7 7]\n",
            " [7 7 7]]\n"
          ]
        }
      ],
      "source": [
        "#28.Python Matrix creation of n*n.\n",
        "\n",
        "import numpy as np\n",
        "\n",
        "n = 3\n",
        "matrix = np.full((n, n), 7)\n",
        "print(matrix)\n"
      ]
    },
    {
      "cell_type": "code",
      "execution_count": null,
      "metadata": {
        "colab": {
          "base_uri": "https://localhost:8080/"
        },
        "id": "vgy6X-OSfL5N",
        "outputId": "07073f8c-6082-4964-cfba-bc478ff4b673"
      },
      "outputs": [
        {
          "name": "stdout",
          "output_type": "stream",
          "text": [
            "[[1. 0. 0.]\n",
            " [0. 1. 0.]\n",
            " [0. 0. 1.]]\n"
          ]
        }
      ],
      "source": [
        "#28.Python Matrix creation of n*n.\n",
        "\n",
        "import numpy as np\n",
        "\n",
        "n = 3\n",
        "matrix = np.identity(n)\n",
        "print(matrix)\n"
      ]
    },
    {
      "cell_type": "code",
      "execution_count": null,
      "metadata": {
        "colab": {
          "base_uri": "https://localhost:8080/"
        },
        "id": "SrYy3N6KfThd",
        "outputId": "3979b8ca-1a30-493a-d86d-a608d4f56927"
      },
      "outputs": [
        {
          "name": "stdout",
          "output_type": "stream",
          "text": [
            "[[1. 1. 1.]\n",
            " [1. 1. 1.]\n",
            " [1. 1. 1.]]\n"
          ]
        }
      ],
      "source": [
        "#28.Python Matrix creation of n*n.\n",
        "\n",
        "import numpy as np\n",
        "\n",
        "n = 3\n",
        "matrix = np.ones((n, n))\n",
        "print(matrix)"
      ]
    },
    {
      "cell_type": "code",
      "execution_count": null,
      "metadata": {
        "colab": {
          "base_uri": "https://localhost:8080/"
        },
        "id": "eb62queffW3J",
        "outputId": "b1bb1d4f-28c5-4e88-dee0-b50e54b48baa"
      },
      "outputs": [
        {
          "name": "stdout",
          "output_type": "stream",
          "text": [
            "[[0. 0. 0.]\n",
            " [0. 0. 0.]\n",
            " [0. 0. 0.]]\n"
          ]
        }
      ],
      "source": [
        "#28.Python Matrix creation of n*n.\n",
        "\n",
        "import numpy as np\n",
        "\n",
        "n = 3\n",
        "matrix = np.zeros((n, n))\n",
        "print(matrix)"
      ]
    },
    {
      "cell_type": "code",
      "execution_count": null,
      "metadata": {
        "colab": {
          "base_uri": "https://localhost:8080/"
        },
        "id": "SNd2oyTdfnSu",
        "outputId": "55cf31cf-d6a6-4563-d069-0a3e409be9d2"
      },
      "outputs": [
        {
          "name": "stdout",
          "output_type": "stream",
          "text": [
            "[[0.50532107 0.68791124 0.89544769]\n",
            " [0.39067573 0.69583632 0.86133953]\n",
            " [0.21921863 0.50288493 0.09945333]]\n"
          ]
        }
      ],
      "source": [
        "#28.Python Matrix creation of n*n.\n",
        "\n",
        "import numpy as np\n",
        "\n",
        "n = 3\n",
        "matrix = np.random.rand(n, n)\n",
        "print(matrix)"
      ]
    },
    {
      "cell_type": "code",
      "execution_count": null,
      "metadata": {
        "colab": {
          "base_uri": "https://localhost:8080/"
        },
        "id": "hJYUxQaffpjO",
        "outputId": "5f20ce99-dcd9-4302-f62b-6c675403f08a"
      },
      "outputs": [
        {
          "name": "stdout",
          "output_type": "stream",
          "text": [
            "[2 5 8]\n"
          ]
        }
      ],
      "source": [
        "#29.Python Get Kth Column of Matrix.\n",
        "\n",
        "import numpy as np\n",
        "\n",
        "matrix = np.array([[1, 2, 3], [4, 5, 6], [7, 8, 9]])\n",
        "\n",
        "column = matrix[:, 1]\n",
        "print(column)\n"
      ]
    },
    {
      "cell_type": "code",
      "execution_count": null,
      "metadata": {
        "colab": {
          "base_uri": "https://localhost:8080/"
        },
        "id": "bopfFx5ff-XM",
        "outputId": "e6f9dbd4-0342-44c9-a4e2-90214aaf71a1"
      },
      "outputs": [
        {
          "name": "stdout",
          "output_type": "stream",
          "text": [
            "[2 5 8]\n"
          ]
        }
      ],
      "source": [
        "#30.Python – Vertical Concatenation in Matrix.\n",
        "import numpy as np\n",
        "\n",
        "matrix = np.array([[1, 2, 3], [4, 5, 6], [7, 8, 9]])\n",
        "\n",
        "column = matrix[:,1]\n",
        "print(column)\n"
      ]
    },
    {
      "cell_type": "code",
      "execution_count": null,
      "metadata": {
        "colab": {
          "base_uri": "https://localhost:8080/"
        },
        "id": "nXBVDPCGg2yP",
        "outputId": "3cd53752-dcb7-44ba-c497-dd36f20822fa"
      },
      "outputs": [
        {
          "name": "stdout",
          "output_type": "stream",
          "text": [
            "[2 5 8]\n"
          ]
        }
      ],
      "source": [
        "#30.Python – Vertical Concatenation in Matrix.\n",
        "import numpy as np\n",
        "\n",
        "matrix = np.array([[1, 2, 3], [4, 5, 6], [7, 8, 9]])\n",
        "k = 1\n",
        "column = np.take(matrix, k, axis=1)\n",
        "print(column)\n"
      ]
    },
    {
      "cell_type": "code",
      "execution_count": null,
      "metadata": {
        "colab": {
          "base_uri": "https://localhost:8080/"
        },
        "id": "o4uG3CzShhad",
        "outputId": "10d24936-43f6-477b-96a0-8d946f15bd42"
      },
      "outputs": [
        {
          "name": "stdout",
          "output_type": "stream",
          "text": [
            "[[1 2]\n",
            " [3 4]\n",
            " [5 6]\n",
            " [7 8]]\n"
          ]
        }
      ],
      "source": [
        "#30.Python – Vertical Concatenation in Matrix.\n",
        "import numpy as np\n",
        "\n",
        "a = np.array([[1, 2], [3, 4]])\n",
        "b = np.array([[5, 6], [7, 8]])\n",
        "c = np.vstack((a, b))\n",
        "print(c)\n"
      ]
    },
    {
      "cell_type": "code",
      "execution_count": null,
      "metadata": {
        "colab": {
          "base_uri": "https://localhost:8080/"
        },
        "id": "6bRZZd7VhyE_",
        "outputId": "c8601947-c716-4154-a9ed-eaefec28c3f5"
      },
      "outputs": [
        {
          "name": "stdout",
          "output_type": "stream",
          "text": [
            "  ###  \n",
            " #   # \n",
            " #     \n",
            " # ### \n",
            " #   # \n",
            " #   # \n",
            "  ###  \n",
            "\n"
          ]
        }
      ],
      "source": [
        "#31. Python Program to print the pattern ‘G’.\n",
        "pattern = \"\"\n",
        "for row in range(0,7):\n",
        "    for col in range(0,7):\n",
        "        if ((col == 1 and row != 0 and row != 6) or ((row == 0 or row == 6) and col > 1 and col < 5) or\n",
        "            (row == 3 and col > 2 and col < 6) or (col == 5 and row != 0 and row != 2 and row != 6)):\n",
        "            pattern = pattern + \"#\"\n",
        "        else:\n",
        "            pattern = pattern + \" \"\n",
        "    pattern = pattern + \"\\n\"\n",
        "print(pattern)"
      ]
    },
    {
      "cell_type": "code",
      "execution_count": null,
      "metadata": {
        "colab": {
          "base_uri": "https://localhost:8080/"
        },
        "id": "sdUxHo_sj0E2",
        "outputId": "6858fbec-3e08-47cd-e7bc-52e7b42be4d0"
      },
      "outputs": [
        {
          "name": "stdout",
          "output_type": "stream",
          "text": [
            "*****\n",
            "****\n",
            "***\n",
            "**\n",
            "*\n"
          ]
        }
      ],
      "source": [
        "#32.Python Program to print an Inverted Star Pattern.\n",
        "for i in range(5, 0, -1):\n",
        "    print(\"*\" * i)\n"
      ]
    },
    {
      "cell_type": "code",
      "execution_count": null,
      "metadata": {
        "colab": {
          "base_uri": "https://localhost:8080/"
        },
        "id": "WGUA1v30j9se",
        "outputId": "4fc648df-559d-43a6-eef4-9ae6614c0773"
      },
      "outputs": [
        {
          "name": "stdout",
          "output_type": "stream",
          "text": [
            "    *\n",
            "   ***\n",
            "  *****\n",
            " *******\n",
            "*********\n",
            " *******\n",
            "  *****\n",
            "   ***\n",
            "    *\n"
          ]
        }
      ],
      "source": [
        "#33.Python Program to print double sided stair-case pattern.\n",
        "for i in range(1, 6):\n",
        "    print(\" \" * (5 - i) + \"*\" * i + \"*\" * (i - 1))\n",
        "\n",
        "for i in range(4, 0, -1):\n",
        "    print(\" \" * (5 - i) + \"*\" * i + \"*\" * (i - 1))\n"
      ]
    },
    {
      "cell_type": "code",
      "execution_count": null,
      "metadata": {
        "colab": {
          "base_uri": "https://localhost:8080/"
        },
        "id": "pMg-uGIDkbzN",
        "outputId": "fc825cf8-e036-4578-8964-488cc92a59ac"
      },
      "outputs": [
        {
          "name": "stdout",
          "output_type": "stream",
          "text": [
            "          _     _     _ _           _      _____            _              \n",
            "    /\\   | |   | |   (_|_)         | |    / ____|          | |             \n",
            "   /  \\  | |__ | |__  _ _  ___  ___| |_  | (___   __ _ _ __| | ____ _ _ __ \n",
            "  / /\\ \\ | '_ \\| '_ \\| | |/ _ \\/ _ \\ __|  \\___ \\ / _` | '__| |/ / _` | '__|\n",
            " / ____ \\| |_) | | | | | |  __/  __/ |_   ____) | (_| | |  |   < (_| | |   \n",
            "/_/    \\_\\_.__/|_| |_|_| |\\___|\\___|\\__| |_____/ \\__,_|_|  |_|\\_\\__,_|_|   \n",
            "                      _/ |                                                 \n",
            "                     |__/                                                  \n",
            "\n"
          ]
        }
      ],
      "source": [
        "#34.Python Program to print with your own font.\n",
        "import pyfiglet\n",
        "\n",
        "text = \"Abhijeet Sarkar\"\n",
        "custom_font = pyfiglet.figlet_format(text, font='big')\n",
        "print(custom_font)\n"
      ]
    },
    {
      "cell_type": "code",
      "execution_count": null,
      "metadata": {
        "colab": {
          "base_uri": "https://localhost:8080/"
        },
        "id": "cuAUvH5Mkznd",
        "outputId": "7aecb211-47b4-47ab-f31f-158b7f703103"
      },
      "outputs": [
        {
          "name": "stdout",
          "output_type": "stream",
          "text": [
            "Current Time is: 14:27:17\n"
          ]
        }
      ],
      "source": [
        "#35. Python program to get Current Time\n",
        "\n",
        "from datetime import datetime\n",
        "\n",
        "current_time = datetime.now().time()\n",
        "time_string = current_time.strftime(\"%H:%M:%S\")\n",
        "print(\"Current Time is:\", time_string)\n",
        "\n"
      ]
    },
    {
      "cell_type": "code",
      "execution_count": null,
      "metadata": {
        "colab": {
          "base_uri": "https://localhost:8080/"
        },
        "id": "YFCIgIAulLne",
        "outputId": "9b00629b-768b-4e10-bd5f-06475932800b"
      },
      "outputs": [
        {
          "name": "stdout",
          "output_type": "stream",
          "text": [
            "Current Date and Time is: 2023-01-20 14:28:31\n"
          ]
        }
      ],
      "source": [
        "#37.Get Current Date and Time using Python\n",
        "from datetime import datetime\n",
        "\n",
        "current_datetime = datetime.now()\n",
        "datetime_string = current_datetime.strftime(\"%Y-%m-%d %H:%M:%S\")\n",
        "print(\"Current Date and Time is:\", datetime_string)\n"
      ]
    },
    {
      "cell_type": "code",
      "execution_count": null,
      "metadata": {
        "colab": {
          "base_uri": "https://localhost:8080/"
        },
        "id": "UWRg9GJylefO",
        "outputId": "41883e58-dd88-4f89-f609-c263fa115d06"
      },
      "outputs": [
        {
          "name": "stdout",
          "output_type": "stream",
          "text": [
            "Yesterday's date: 2023-01-19\n",
            "Today's date: 2023-01-20\n",
            "Tomorrow's date: 2023-01-21\n"
          ]
        }
      ],
      "source": [
        "#38.Python Find yesterday’s, today’s and tomorrow’s date\n",
        "from datetime import datetime, timedelta\n",
        "\n",
        "yesterday = datetime.now() - timedelta(days=1)\n",
        "print(\"Yesterday's date:\", yesterday.date())\n",
        "\n",
        "today = datetime.now()\n",
        "print(\"Today's date:\", today.date())\n",
        "\n",
        "tomorrow = datetime.now() + timedelta(days=1)\n",
        "print(\"Tomorrow's date:\", tomorrow.date())\n"
      ]
    },
    {
      "cell_type": "code",
      "execution_count": null,
      "metadata": {
        "colab": {
          "base_uri": "https://localhost:8080/"
        },
        "id": "v97UV7fpltjQ",
        "outputId": "8a9af3be-7e66-49ac-9371-3b50e882096f"
      },
      "outputs": [
        {
          "name": "stdout",
          "output_type": "stream",
          "text": [
            "12-hour format: 12:45 PM\n",
            "24-hour format: 12:45\n"
          ]
        }
      ],
      "source": [
        "#39.Python program to convert time from 12 hour to 24 hour format\n",
        "from datetime import datetime\n",
        "\n",
        "time_12h = \"12:45 PM\"\n",
        "time_24h = datetime.strptime(time_12h, \"%I:%M %p\").strftime(\"%H:%M\")\n",
        "print(\"12-hour format:\", time_12h)\n",
        "print(\"24-hour format:\", time_24h)\n"
      ]
    },
    {
      "cell_type": "code",
      "execution_count": null,
      "metadata": {
        "colab": {
          "base_uri": "https://localhost:8080/"
        },
        "id": "jih_ZiO-mCxn",
        "outputId": "c9e28e0b-2957-49a0-d05a-1ee38c178c78"
      },
      "outputs": [
        {
          "name": "stdout",
          "output_type": "stream",
          "text": [
            "Current Time: 14:32:16.936393\n",
            "Given Time:  20:30:00\n",
            "Difference:  -1 day, 18:02:16.936393\n"
          ]
        }
      ],
      "source": [
        "#40.Python program to find difference between current time and given time\n",
        "\n",
        "from datetime import datetime, timedelta\n",
        "\n",
        "given_time = \"20:30:00\"\n",
        "current_time = datetime.now().time()\n",
        "\n",
        "time_diff = datetime.combine(datetime.today(), current_time) - datetime.combine(datetime.today(), datetime.strptime(given_time, \"%H:%M:%S\").time())\n",
        "\n",
        "print(\"Current Time:\", current_time)\n",
        "print(\"Given Time: \", given_time)\n",
        "print(\"Difference: \", time_diff)\n"
      ]
    },
    {
      "cell_type": "code",
      "execution_count": null,
      "metadata": {
        "id": "ej-d69nKmWLV"
      },
      "outputs": [],
      "source": [
        "#41.Python Program to Create a Lap Timer\n",
        "import time\n",
        "\n",
        "lap_times = []\n",
        "\n",
        "print(\"Starting Timer...\")\n",
        "start_time = time.time()\n",
        "\n",
        "while True:\n",
        "    lap_time = time.time() - start_time\n",
        "    lap_times.append(lap_time)\n",
        "\n",
        "    print(f\"Lap {len(lap_times)}: {lap_time:.2f} seconds\")\n",
        "    input(\"Press Enter to take the next lap...\")\n"
      ]
    },
    {
      "cell_type": "code",
      "execution_count": null,
      "metadata": {
        "colab": {
          "base_uri": "https://localhost:8080/"
        },
        "id": "WZ_hSuWkm53m",
        "outputId": "d8c183c2-1351-49c4-a640-54867bae8f54"
      },
      "outputs": [
        {
          "name": "stdout",
          "output_type": "stream",
          "text": [
            "Date String: 2023-01-20\n",
            "Timestamp: 1674172800\n"
          ]
        }
      ],
      "source": [
        "#42.Convert date string to timestamp in Python\n",
        "from datetime import datetime\n",
        "\n",
        "date_string = \"2023-01-20\"\n",
        "date_object = datetime.strptime(date_string, \"%Y-%m-%d\")\n",
        "timestamp = int(date_object.timestamp())\n",
        "print(\"Date String:\", date_string)\n",
        "print(\"Timestamp:\", timestamp)\n"
      ]
    },
    {
      "cell_type": "code",
      "execution_count": null,
      "metadata": {
        "colab": {
          "base_uri": "https://localhost:8080/"
        },
        "id": "egjo7jQVm32-",
        "outputId": "4be51c80-484f-4a45-9797-25de96265ac3"
      },
      "outputs": [
        {
          "name": "stdout",
          "output_type": "stream",
          "text": [
            "Timestamp String: 1674172800\n",
            "Datetime object: 2023-01-20 00:00:00\n"
          ]
        }
      ],
      "source": [
        "#43.How to convert timestamp string to datetime object in Python?\n",
        "from datetime import datetime\n",
        "\n",
        "timestamp_string = \"1674172800\"\n",
        "timestamp = int(timestamp_string)\n",
        "date_object = datetime.fromtimestamp(timestamp)\n",
        "print(\"Timestamp String:\", timestamp_string)\n",
        "print(\"Datetime object:\", date_object)\n"
      ]
    },
    {
      "cell_type": "code",
      "execution_count": null,
      "metadata": {
        "colab": {
          "base_uri": "https://localhost:8080/"
        },
        "id": "gKQsdsUYmWRf",
        "outputId": "9d9021af-0a7c-4cb1-eba0-d971f9918e3f"
      },
      "outputs": [
        {
          "name": "stdout",
          "output_type": "stream",
          "text": [
            "Monday 52\n",
            "Tuesday 52\n",
            "Wednesday 52\n",
            "Thursday 52\n",
            "Friday 52\n",
            "Saturday 52\n",
            "Sunday 53\n"
          ]
        }
      ],
      "source": [
        "#44.Find number of times every day occurs in a Year.\n",
        "import datetime\n",
        "import calendar\n",
        "\n",
        "def day_occur_time(year):\n",
        "\t\n",
        "\t# stores days in a week\n",
        "\tdays = [ \"Monday\", \"Tuesday\", \"Wednesday\",\n",
        "\t\t\"Thursday\", \"Friday\", \"Saturday\",\n",
        "\t\t\"Sunday\" ]\n",
        "\t\n",
        "\t# Initialize all counts as 52\n",
        "\tL = [52 for i in range(7)]\n",
        "\t\n",
        "\t# Find the index of the first day\n",
        "\t# of the year\n",
        "\tpos = -1\n",
        "\tday = datetime.datetime(year, month = 1, day = 1).strftime(\"%A\")\n",
        "\tfor i in range(7):\n",
        "\t\tif day == days[i]:\n",
        "\t\t\tpos = i\n",
        "\t\t\t\n",
        "\t# mark the occurrence to be 53 of 1st day\n",
        "\t# and 2nd day if the year is leap year\n",
        "\tif calendar.isleap(year):\n",
        "\t\tL[pos] += 1\n",
        "\t\tL[(pos+1)%7] += 1\n",
        "\t\t\n",
        "\telse:\n",
        "\t\tL[pos] += 1\n",
        "\t\t\n",
        "\t\n",
        "\t# Print the days\n",
        "\tfor i in range(7):\n",
        "\t\tprint(days[i], L[i])\n",
        "\t\n",
        "\n",
        "# Driver Code\n",
        "year = 2023\n",
        "day_occur_time(year)\n"
      ]
    },
    {
      "cell_type": "code",
      "execution_count": null,
      "metadata": {
        "colab": {
          "base_uri": "https://localhost:8080/"
        },
        "id": "UzXti-8bpYE4",
        "outputId": "f23976b1-120a-4a48-b16b-e235fe039528"
      },
      "outputs": [
        {
          "name": "stdout",
          "output_type": "stream",
          "text": [
            "Original List:\n",
            "1\n",
            "2\n",
            "3\n",
            "4\n",
            "Reversed List:\n",
            "4\n",
            "3\n",
            "2\n",
            "1\n"
          ]
        }
      ],
      "source": [
        "#45.Python Program to Reverse a linked list\n",
        "class Node:\n",
        "    def __init__(self, data):\n",
        "        self.data = data\n",
        "        self.next = None\n",
        "\n",
        "class LinkedList:\n",
        "    def __init__(self):\n",
        "        self.head = None\n",
        "\n",
        "    def append(self, data):\n",
        "        new_node = Node(data)\n",
        "        if not self.head:\n",
        "            self.head = new_node\n",
        "            return\n",
        "        current = self.head\n",
        "        while current.next:\n",
        "            current = current.next\n",
        "        current.next = new_node\n",
        "\n",
        "    def reverse(self):\n",
        "        prev = None\n",
        "        current = self.head\n",
        "        while current:\n",
        "            next_node = current.next\n",
        "            current.next = prev\n",
        "            prev = current\n",
        "            current = next_node\n",
        "        self.head = prev\n",
        "\n",
        "    def print_list(self):\n",
        "        current = self.head\n",
        "        while current:\n",
        "            print(current.data)\n",
        "            current = current.next\n",
        "\n",
        "ll = LinkedList()\n",
        "ll.append(1)\n",
        "ll.append(2)\n",
        "ll.append(3)\n",
        "ll.append(4)\n",
        "print(\"Original List:\")\n",
        "ll.print_list()\n",
        "ll.reverse()\n",
        "print(\"Reversed List:\")\n",
        "ll.print_list()\n",
        "\n",
        "\n"
      ]
    },
    {
      "cell_type": "code",
      "execution_count": null,
      "metadata": {
        "colab": {
          "base_uri": "https://localhost:8080/"
        },
        "id": "JSX5uDRFqi8X",
        "outputId": "10bb0a79-27c7-4002-b290-92cdad21bdd1"
      },
      "outputs": [
        {
          "name": "stdout",
          "output_type": "stream",
          "text": [
            "5\n",
            "328513\n"
          ]
        }
      ],
      "source": [
        "#46.Python Program for Find largest prime factor of a number\n",
        "\n",
        "import math\n",
        "\n",
        "# A function to find largest prime factor\n",
        "def maxPrimeFactors (n):\n",
        "\n",
        "\tmaxPrime = -1\n",
        "\t\n",
        "\twhile n % 2 == 0:\n",
        "\t\tmaxPrime = 2\n",
        "\t\tn >>= 1\t # equivalent to n /= 2\n",
        "\t\t\n",
        "\t\n",
        "\tfor i in range(3, int(math.sqrt(n)) + 1, 2):\n",
        "\t\twhile n % i == 0:\n",
        "\t\t\tmaxPrime = i\n",
        "\t\t\tn = n / i\n",
        "\t\n",
        "\t\n",
        "\tif n > 2:\n",
        "\t\tmaxPrime = n\n",
        "\t\n",
        "\treturn int(maxPrime)\n",
        "\n",
        "n = 15\n",
        "print(maxPrimeFactors(n))\n",
        "\n",
        "n = 25698751364526\n",
        "print(maxPrimeFactors(n))\n"
      ]
    },
    {
      "cell_type": "code",
      "execution_count": null,
      "metadata": {
        "colab": {
          "base_uri": "https://localhost:8080/"
        },
        "id": "Z3qJ3b4FrEEn",
        "outputId": "9c207e00-d295-48fc-9a4b-dfaddcb54056"
      },
      "outputs": [
        {
          "name": "stdout",
          "output_type": "stream",
          "text": [
            "2\n",
            "2\n",
            "2\n",
            "5\n",
            "5\n"
          ]
        }
      ],
      "source": [
        "#47.Python Program for Efficient program to print all prime factors of a given number\n",
        "\n",
        "import math\n",
        "# prime\n",
        "def primeFactors(n):\n",
        "   # no of even divisibility\n",
        "   while n % 2 == 0:\n",
        "      print (2),\n",
        "      n = n / 2\n",
        "   # n reduces to become odd\n",
        "   for i in range(3,int(math.sqrt(n))+1,2):\n",
        "      # while i divides n\n",
        "      while n % i== 0:\n",
        "         print (i)\n",
        "         n = n / i\n",
        "   # if n is a prime\n",
        "   if n > 2:\n",
        "      print (n)\n",
        "n = 200\n",
        "primeFactors(n)"
      ]
    },
    {
      "cell_type": "code",
      "execution_count": null,
      "metadata": {
        "colab": {
          "base_uri": "https://localhost:8080/"
        },
        "id": "dj9KHSLkrhev",
        "outputId": "1e01fe7d-7012-4941-a30d-743f9957cc94"
      },
      "outputs": [
        {
          "name": "stdout",
          "output_type": "stream",
          "text": [
            "22\n"
          ]
        }
      ],
      "source": [
        "#48.Python Program for Product of unique prime factors of a number\n",
        "\n",
        "def productPrimeFactors(n):\n",
        "\tproduct = 1\n",
        "\t\n",
        "\tfor i in range(2, n+1):\n",
        "\t\tif (n % i == 0):\n",
        "\t\t\tisPrime = 1\n",
        "\t\t\t\n",
        "\t\t\tfor j in range(2, int(i/2 + 1)):\n",
        "\t\t\t\tif (i % j == 0):\n",
        "\t\t\t\t\tisPrime = 0\n",
        "\t\t\t\t\tbreak\n",
        "\t\t\t\t\n",
        "\t\t\tif (isPrime):\n",
        "\t\t\t\tproduct = product * i\n",
        "\t\t\t\t\n",
        "\treturn product\n",
        "\t\n",
        "\n",
        "n = 44\n",
        "print (productPrimeFactors(n))"
      ]
    },
    {
      "cell_type": "code",
      "execution_count": null,
      "metadata": {
        "colab": {
          "base_uri": "https://localhost:8080/"
        },
        "id": "ib92o92Ur1mQ",
        "outputId": "66cc455d-5b51-44a8-90cc-fb34f3b4f67f"
      },
      "outputs": [
        {
          "name": "stdout",
          "output_type": "stream",
          "text": [
            "The Sum of all odd factors of { 24 }  =  4\n"
          ]
        }
      ],
      "source": [
        "#49.Python Program for Find sum of odd factors of a number\n",
        "\n",
        "# Give the number as static input and store it in a variable.\n",
        "gvn_numb = 24\n",
        "# Take an empty list and store it in another variable.\n",
        "all_factors = []\n",
        "# Loop from '1' to above given number range using For loop.\n",
        "for itr in range(1, gvn_numb+1):\n",
        "    # Check whether the given number modulus iterator value is equal to '0' or not\n",
        "    # using if conditional statement.\n",
        "    if gvn_numb % itr == 0:\n",
        "        # If the statement is True, Check if the iterator modulus 2 is not equal to 0 using the\n",
        "        # if conditional statement.\n",
        "        if itr % 2 != 0:\n",
        "            # If the statement is True ,append the iterator value to the above declared list .\n",
        "            all_factors.append(itr)\n",
        "      # Get the sum of all the odd factors of above got list using built-in sum() function\n",
        "      # and store it in another variable.\n",
        "reslt = sum(all_factors)\n",
        "# Print the sum of all odd factors of a given number.\n",
        "print(\"The Sum of all odd factors of {\", gvn_numb, \"}  = \", reslt)"
      ]
    },
    {
      "cell_type": "code",
      "execution_count": null,
      "metadata": {
        "colab": {
          "base_uri": "https://localhost:8080/"
        },
        "id": "oyKL6O84rEJM",
        "outputId": "0fbcde02-daed-4d7d-cc4a-f611fa21de0d"
      },
      "outputs": [
        {
          "name": "stdout",
          "output_type": "stream",
          "text": [
            "4\n"
          ]
        }
      ],
      "source": [
        "#50.Python Program for Coin Change\n",
        "\n",
        "def count(S, m, n):\n",
        "    # If n is 0 then there is 1 solution (do not include any coin)\n",
        "    if n == 0:\n",
        "        return 1\n",
        "    # If n is less than 0 then no solution exists\n",
        "    if n < 0:\n",
        "        return 0\n",
        "    # If there are no coins and n is greater than 0, then no solution exist\n",
        "    if m <=0 and n >= 1:\n",
        "        return 0\n",
        "    # count is sum of solutions (i) including S[m-1] (ii) excluding S[m-1]\n",
        "    return count( S, m - 1, n ) + count( S, m, n-S[m-1] );\n",
        "\n",
        "# Driver program to test above function\n",
        "arr = [1, 2, 3]\n",
        "m = len(arr)\n",
        "n = 4\n",
        "x = count(arr, m, n)\n",
        "print (x)\n"
      ]
    }
  ],
  "metadata": {
    "colab": {
      "provenance": []
    },
    "kernelspec": {
      "display_name": "Python 3",
      "name": "python3"
    },
    "language_info": {
      "name": "python"
    }
  },
  "nbformat": 4,
  "nbformat_minor": 0
}
